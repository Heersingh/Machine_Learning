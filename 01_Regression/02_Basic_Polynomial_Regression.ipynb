{
 "cells": [
  {
   "cell_type": "markdown",
   "metadata": {},
   "source": [
    "### When to use polynomial regression"
   ]
  },
  {
   "cell_type": "raw",
   "metadata": {},
   "source": [
    "Polynomial regression is used when relationship between explanatory variable and response variable is non-linear.Consider the below cases where response variable is curvilinear function of explanatory variable."
   ]
  },
  {
   "cell_type": "code",
   "execution_count": 7,
   "metadata": {},
   "outputs": [],
   "source": [
    "import pandas as pd\n",
    "import numpy as np\n",
    "import seaborn as sns\n",
    "import matplotlib.pyplot as plt\n",
    "\n",
    "%matplotlib inline"
   ]
  },
  {
   "cell_type": "code",
   "execution_count": 138,
   "metadata": {},
   "outputs": [],
   "source": [
    "x = [6,8,10,14, 18, 20, 22, 24]\n",
    "y = [7,9,13,15,17,14,11,8]\n",
    "#plt.figure(figsize=(10,6))\n",
    "#plt.scatter(x,y)\n",
    "#plt.title('Parabola curve showing non-linear relationship')\n",
    "#plt.xlabel('explanatory variable')\n",
    "#plt.ylabel('response variable')\n",
    "#plt.plot(x, y)\n",
    "#plt.show()"
   ]
  },
  {
   "cell_type": "code",
   "execution_count": 9,
   "metadata": {},
   "outputs": [],
   "source": [
    "# For a quadradic model: y = x^2+x+1 ; polynomial of degree 2\n",
    "#x = [6,8,10,14, 18, 20, 22, 24]\n",
    "#y = list(map(lambda x : pow(x,2)+x+1, range(11)))\n",
    "#plt.figure(figsize=(10,6))\n",
    "#plt.scatter(x,y)"
   ]
  },
  {
   "cell_type": "code",
   "execution_count": 10,
   "metadata": {},
   "outputs": [],
   "source": [
    "# For a cubic model y = x^3+x^2+x+1 ; polynomial of degree 3\n",
    "x_ = [6,8,10,14, 18, 20, 22, 24]\n",
    "y = list(map(lambda x : x**3 + pow(x,2) + x + 1, x_))\n",
    "#plt.figure(figsize=(10,6))\n",
    "#plt.scatter(x_,y)"
   ]
  },
  {
   "cell_type": "markdown",
   "metadata": {},
   "source": [
    "### Simple linear regression can't best fit the streight line in above case and so polynomial reg here"
   ]
  },
  {
   "cell_type": "raw",
   "metadata": {},
   "source": [
    "polynomial regression can be quadratic function, cubic function or square root function, it is decided based on degree of polynomial. For example:\n",
    "Quadratic regression, or regression with a second order polynomial, is given by the\n",
    "following formula:\n",
    "             y = α + β1.x + β2.x^2 ;\n",
    "\n",
    "Here x is only one explanatory variable, but the model has three terms instead of two. The explanatory\n",
    "variable has been transformed and added as a third term to the model to capture the curvilinear relationship."
   ]
  },
  {
   "cell_type": "code",
   "execution_count": 11,
   "metadata": {},
   "outputs": [],
   "source": [
    "# scikit learn provides PolynomialFeatures() transformer function to add polynomial terms.\n",
    "# For above quadratic function: PolynomialFeatures(degree=2) add term (β2.x^2) in quadratic eqn.\n",
    "# Here degree is 'n'"
   ]
  },
  {
   "cell_type": "code",
   "execution_count": 124,
   "metadata": {},
   "outputs": [],
   "source": [
    "from sklearn.linear_model import LinearRegression\n",
    "from sklearn.preprocessing import PolynomialFeatures"
   ]
  },
  {
   "cell_type": "code",
   "execution_count": 125,
   "metadata": {},
   "outputs": [],
   "source": [
    "# Dataset\n",
    "X_train = [[6], [8], [10], [14], [18], [20], [22], [24]]\n",
    "y_train = [[7], [9], [13], [15], [17], [14], [11], [8]]\n",
    "X_test = [[6], [8], [9], [13], [17], [21], [23], [25]]\n",
    "y_test = [[7], [10], [11], [14], [16], [15], [12], [9]]"
   ]
  },
  {
   "cell_type": "code",
   "execution_count": 145,
   "metadata": {},
   "outputs": [],
   "source": [
    "# simple linear regression\n",
    "model_1 = LinearRegression()\n",
    "model_1.fit(X_train, y_train)\n",
    "prediction_1 = model_1.predict(X_test)"
   ]
  },
  {
   "cell_type": "markdown",
   "metadata": {},
   "source": [
    "### Degree=2"
   ]
  },
  {
   "cell_type": "code",
   "execution_count": 127,
   "metadata": {},
   "outputs": [],
   "source": [
    "# Polynomial regression for degree=2 (quadratic)\n",
    "# features transformer\n",
    "quadratic_featurizer = PolynomialFeatures(degree=2)\n",
    "X_train_quadratic = quadratic_featurizer.fit_transform(X_train)\n",
    "X_test_quadratic = quadratic_featurizer.transform(X_test)\n",
    "                                                  \n",
    "model_2 = LinearRegression()\n",
    "model_2.fit(X_train_quadratic, y_train)\n",
    "prediction_2 = model_2.predict(X_test_quadratic)\n",
    "#print(\"simple linear regression:\\n \", prediction_2)"
   ]
  },
  {
   "cell_type": "code",
   "execution_count": 141,
   "metadata": {},
   "outputs": [
    {
     "data": {
      "image/png": "[encoded data removed]",
      "text/plain": [
       "<Figure size 720x432 with 1 Axes>"
      ]
     },
     "metadata": {
      "needs_background": "light"
     },
     "output_type": "display_data"
    }
   ],
   "source": [
    "plt.figure(figsize=(10,6))\n",
    "#plt.plot(X_test, prediction_1, color='r') # simple linear reg line\n",
    "plt.axis([0, 25, 0, 25])\n",
    "plt.grid(True)\n",
    "plt.scatter(X_test, y_test) # test data\n",
    "plt.plot(X_test, prediction_2, c='g') # Poly reg curve when degree=2\n",
    "plt.show()"
   ]
  },
  {
   "cell_type": "code",
   "execution_count": 129,
   "metadata": {},
   "outputs": [
    {
     "name": "stdout",
     "output_type": "stream",
     "text": [
      "Simple linear regression r-squared 0.12705151094359557\n",
      "Quadratic regression r-squared 0.6980542549590716\n"
     ]
    }
   ],
   "source": [
    "print(\"Simple linear regression r-squared\", model_1.score(X_test, y_test))\n",
    "print(\"Quadratic regression r-squared\", model_2.score(X_test_quadratic, y_test))\n",
    "# Note: A good r_squared considered to be closer to 1 (or more than 60%).  Quadratic regression\n",
    "# r-squared is greater than simple linear regression which proves the Quadratic regression is better\n",
    "# choice for this dataset."
   ]
  },
  {
   "cell_type": "markdown",
   "metadata": {},
   "source": [
    "### Degree=3"
   ]
  },
  {
   "cell_type": "code",
   "execution_count": 134,
   "metadata": {
    "scrolled": true
   },
   "outputs": [
    {
     "name": "stdout",
     "output_type": "stream",
     "text": [
      "cubic regression r-squared 0.6284321437528679\n"
     ]
    }
   ],
   "source": [
    "# Polynomial regression for degree=3 (cubic)\n",
    "# features transformer\n",
    "featurizer = PolynomialFeatures(degree=3)\n",
    "X_train_cubic = featurizer.fit_transform(X_train)\n",
    "X_test_cubic = featurizer.transform(X_test)\n",
    "                                                  \n",
    "model_3 = LinearRegression()\n",
    "model_3.fit(X_train_cubic, y_train)\n",
    "prediction_3 = model_3.predict(X_test_cubic)\n",
    "#print(\"simple linear regression:\\n \", prediction_2)\n",
    "print(\"cubic regression r-squared\", model_3.score(X_test_cubic, y_test))"
   ]
  },
  {
   "cell_type": "code",
   "execution_count": 131,
   "metadata": {},
   "outputs": [
    {
     "data": {
      "image/png": "[encoded data removed]",
      "text/plain": [
       "<Figure size 720x432 with 1 Axes>"
      ]
     },
     "metadata": {
      "needs_background": "light"
     },
     "output_type": "display_data"
    }
   ],
   "source": [
    "plt.figure(figsize=(10,6))\n",
    "#plt.plot(X_test, prediction_1, color='r') # simple linear reg line\n",
    "plt.axis([0, 25, 0, 25])\n",
    "plt.grid(True)\n",
    "plt.scatter(X_test, y_test) # test data\n",
    "plt.plot(X_test, prediction_2, c='g') # Poly reg curve when degree=2\n",
    "plt.plot(X_test, prediction_3, c='r') # Poly reg curve when degree=3\n",
    "plt.show()"
   ]
  },
  {
   "cell_type": "code",
   "execution_count": null,
   "metadata": {},
   "outputs": [],
   "source": []
  },
  {
   "cell_type": "markdown",
   "metadata": {},
   "source": [
    "### Degree=6"
   ]
  },
  {
   "cell_type": "code",
   "execution_count": 144,
   "metadata": {},
   "outputs": [
    {
     "name": "stdout",
     "output_type": "stream",
     "text": [
      "cubic regression r-squared 0.6669783501063442\n"
     ]
    },
    {
     "data": {
      "image/png": "[encoded data removed]",
      "text/plain": [
       "<Figure size 720x432 with 1 Axes>"
      ]
     },
     "metadata": {
      "needs_background": "light"
     },
     "output_type": "display_data"
    }
   ],
   "source": [
    "# Polynomial regression for degree=6\n",
    "# features transformer\n",
    "featurizer = PolynomialFeatures(degree=6)\n",
    "X_train_ = featurizer.fit_transform(X_train)\n",
    "X_test_ = featurizer.transform(X_test)\n",
    "                                                  \n",
    "model_ = LinearRegression()\n",
    "model_.fit(X_train_, y_train)\n",
    "prediction_ = model_.predict(X_test_)\n",
    "#print(\"simple linear regression:\\n \", prediction_2)\n",
    "print(\"Poly regression having degree 6, r-squared\", model_.score(X_test_, y_test))\n",
    "\n",
    "plt.figure(figsize=(10,6))\n",
    "#plt.plot(X_test, prediction_1, color='r') # simple linear reg line\n",
    "plt.axis([0, 25, 0, 25])\n",
    "plt.grid(True)\n",
    "plt.scatter(X_test, y_test) # test data\n",
    "plt.plot(X_test, prediction_1, c='y') # simple linear regression\n",
    "plt.plot(X_test, prediction_2, c='g') # Poly reg curve when degree=2\n",
    "plt.plot(X_test, prediction_3, c='r') # Poly reg curve when degree=3\n",
    "plt.plot(X_test, prediction_, c='b') # Poly reg curve when degree=6\n",
    "plt.show()\n",
    "\n"
   ]
  },
  {
   "cell_type": "code",
   "execution_count": null,
   "metadata": {},
   "outputs": [],
   "source": []
  },
  {
   "cell_type": "code",
   "execution_count": null,
   "metadata": {},
   "outputs": [],
   "source": []
  }
 ],
 "metadata": {
  "kernelspec": {
   "display_name": "Python 3",
   "language": "python",
   "name": "python3"
  },
  "language_info": {
   "codemirror_mode": {
    "name": "ipython",
    "version": 3
   },
   "file_extension": ".py",
   "mimetype": "text/x-python",
   "name": "python",
   "nbconvert_exporter": "python",
   "pygments_lexer": "ipython3",
   "version": "3.7.1"
  }
 },
 "nbformat": 4,
 "nbformat_minor": 2
}
