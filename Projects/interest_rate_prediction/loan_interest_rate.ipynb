{
 "cells": [
  {
   "cell_type": "markdown",
   "metadata": {},
   "source": [
    "\n",
    "# Loan Interest Rate Prediction"
   ]
  },
  {
   "cell_type": "markdown",
   "metadata": {},
   "source": [
    "### By regression method of supervised learning"
   ]
  },
  {
   "cell_type": "code",
   "execution_count": 2,
   "metadata": {},
   "outputs": [],
   "source": [
    "#[csv file]\n",
    "#https://www.kaggle.com/wendykan/lending-club-loan-data/version/1"
   ]
  },
  {
   "cell_type": "code",
   "execution_count": 1,
   "metadata": {},
   "outputs": [],
   "source": [
    "import numpy as np\n",
    "import pandas as pd\n",
    "from pandas import Series, DataFrame\n",
    "\n",
    "import matplotlib.pyplot as plt\n",
    "import seaborn as sns\n",
    "sns.set_style('whitegrid')\n",
    "%matplotlib inline"
   ]
  },
  {
   "cell_type": "code",
   "execution_count": 2,
   "metadata": {},
   "outputs": [],
   "source": [
    "# If size of file is huge then it is possible to load limited row \n",
    "# skiprows=1000 will skip first 1000 rows (optional)\n",
    "# nrow will load 1000 rows only\n",
    "loan_data = pd.read_csv('loan.csv', index_col=0, nrows=1000)"
   ]
  },
  {
   "cell_type": "code",
   "execution_count": 3,
   "metadata": {},
   "outputs": [],
   "source": [
    "#loan_data.index"
   ]
  },
  {
   "cell_type": "code",
   "execution_count": 4,
   "metadata": {},
   "outputs": [],
   "source": [
    "#loan_data.shape"
   ]
  },
  {
   "cell_type": "code",
   "execution_count": 5,
   "metadata": {},
   "outputs": [],
   "source": [
    "#loan amount\n",
    "#loan_data.loan_amnt[0:10]"
   ]
  },
  {
   "cell_type": "code",
   "execution_count": 6,
   "metadata": {},
   "outputs": [],
   "source": [
    "# First ten entries of 'term' column\n",
    "# NOTE: Should remove 'months' string while training model\n",
    "#loan_data.term[0:10] \n",
    "\n",
    "#OR\n",
    "#loan_data.iloc[0:10, 4]\n",
    "#OR\n",
    "#loan_data['term'][0:10]"
   ]
  },
  {
   "cell_type": "code",
   "execution_count": 7,
   "metadata": {},
   "outputs": [],
   "source": [
    "# ten Interest rate enteries here\n",
    "# NOTE: Should remove the floating point numbers to train model\n",
    "#loan_data.int_rate[0:10]"
   ]
  },
  {
   "cell_type": "code",
   "execution_count": 8,
   "metadata": {},
   "outputs": [],
   "source": [
    "# ten grade enteries\n",
    "#loan_data['grade'][0:10]"
   ]
  },
  {
   "cell_type": "code",
   "execution_count": 9,
   "metadata": {},
   "outputs": [],
   "source": [
    "# ten grade enteries\n",
    "#loan_data['sub_grade'][0:10]"
   ]
  },
  {
   "cell_type": "markdown",
   "metadata": {},
   "source": [
    "### Data cleaning"
   ]
  },
  {
   "cell_type": "raw",
   "metadata": {},
   "source": [
    "TODO:\n",
    "1. Remove 'months' string in [term] column\n",
    "2. Remove floating point number from interest rate column\n",
    "3. Encode grade and subgrade columns into integer form\n",
    "4. Store cleaned data into a dataframe"
   ]
  },
  {
   "cell_type": "code",
   "execution_count": 10,
   "metadata": {},
   "outputs": [],
   "source": [
    "# 1. Remove 'months' string in [term] column\n",
    "loan_period = loan_data['term'].map(lambda x : x.rstrip(' months'))"
   ]
  },
  {
   "cell_type": "code",
   "execution_count": 11,
   "metadata": {
    "collapsed": true
   },
   "outputs": [
    {
     "data": {
      "text/plain": [
       "id\n",
       "1077501    10\n",
       "1077430    15\n",
       "1077175    15\n",
       "1076863    13\n",
       "1075358    12\n",
       "1075269     7\n",
       "1069639    15\n",
       "1072053    18\n",
       "1071795    21\n",
       "1071570    12\n",
       "1070078    14\n",
       "1069908    12\n",
       "1064687    13\n",
       "1069866     9\n",
       "1069057    10\n",
       "1069759    16\n",
       "1065775    15\n",
       "1069971     6\n",
       "1062474    11\n",
       "1069742     6\n",
       "1069740    15\n",
       "1039153    12\n",
       "1069710    11\n",
       "1069700    11\n",
       "1069559    11\n",
       "1069697     9\n",
       "1069800    14\n",
       "1069657    16\n",
       "1069799    11\n",
       "1047704    11\n",
       "           ..\n",
       "1054408    20\n",
       "1058173    16\n",
       "1057996     9\n",
       "1058162    14\n",
       "1055265    10\n",
       "1018385     6\n",
       "1054294    15\n",
       "1057750    12\n",
       "1057923     9\n",
       "1057816    11\n",
       "1057900     8\n",
       "1056770    12\n",
       "1057710    11\n",
       "1057323    16\n",
       "1057878    12\n",
       "1057726    12\n",
       "1057720    18\n",
       "1049053    14\n",
       "1057448    19\n",
       "1057669    21\n",
       "1050535    16\n",
       "1057674    15\n",
       "1057806    10\n",
       "1057615     8\n",
       "1057818     8\n",
       "1057629    15\n",
       "1057621     9\n",
       "1057787     9\n",
       "1057770    20\n",
       "1057275    17\n",
       "Name: int_rate, Length: 1000, dtype: int64"
      ]
     },
     "execution_count": 11,
     "metadata": {},
     "output_type": "execute_result"
    }
   ],
   "source": [
    "# 2. Remove floating point number from interest rate column\n",
    "interest_rate = loan_data['int_rate'].astype(int)\n",
    "interest_rate"
   ]
  },
  {
   "cell_type": "code",
   "execution_count": 12,
   "metadata": {},
   "outputs": [],
   "source": [
    "#print(loan_data['grade'].astype('category').values, \"\\n\")\n",
    "#print(loan_data['sub_grade'].astype('category').values)"
   ]
  },
  {
   "cell_type": "code",
   "execution_count": 47,
   "metadata": {},
   "outputs": [],
   "source": [
    "# 3. Encode grade and subgrade columns into integer form\n",
    "fico_grade = loan_data['grade'].replace(('A', 'B', 'C', 'D', 'E', 'F', 'G'), (1,2,3,4,5,6, 7))\n",
    "fico_sub_grade = loan_data['sub_grade'].replace(('A1','A2', 'A3', 'A4', 'A5', 'A6', 'A7',\n",
    "                                                          'B1', 'B2', 'B3', 'B4', 'B5', 'B6', 'B7',\n",
    "                                                          'C1', 'C2', 'C3', 'C4', 'C5', 'C6', 'C7',\n",
    "                                                          'D1', 'D2', 'D3', 'D4', 'D5', 'D6', 'D7',\n",
    "                                                          'E1', 'E2', 'E3', 'E4', 'E5', 'E6', 'E7',\n",
    "                                                          'F1', 'F2', 'F3', 'F4', 'F5', 'F6', 'F7',\n",
    "                                                          'G1', 'G2', 'G3', 'G4', 'G5', 'G6', 'G7',),\n",
    "                                                          ('11','12','13','14','15','16','17',\n",
    "                                                           '21','22','23','24','25','26','27',\n",
    "                                                           '31','32','33','34','35','36','37',\n",
    "                                                           '41','42','43','44','45','46','47',\n",
    "                                                           '51','52','53','54','55','56','57',\n",
    "                                                           '61','62','63','64','65','66','67',\n",
    "                                                           '71','72','73','74','75','76','77',\n",
    "                                                          )\n",
    "                                                        )"
   ]
  },
  {
   "cell_type": "code",
   "execution_count": 14,
   "metadata": {},
   "outputs": [
    {
     "data": {
      "text/html": [
       "<div>\n",
       "<style scoped>\n",
       "    .dataframe tbody tr th:only-of-type {\n",
       "        vertical-align: middle;\n",
       "    }\n",
       "\n",
       "    .dataframe tbody tr th {\n",
       "        vertical-align: top;\n",
       "    }\n",
       "\n",
       "    .dataframe thead th {\n",
       "        text-align: right;\n",
       "    }\n",
       "</style>\n",
       "<table border=\"1\" class=\"dataframe\">\n",
       "  <thead>\n",
       "    <tr style=\"text-align: right;\">\n",
       "      <th></th>\n",
       "      <th>Loan Amount</th>\n",
       "      <th>Loan Period</th>\n",
       "      <th>Interest Rate</th>\n",
       "      <th>FICO Grade</th>\n",
       "      <th>FICO Subgrade</th>\n",
       "    </tr>\n",
       "    <tr>\n",
       "      <th>id</th>\n",
       "      <th></th>\n",
       "      <th></th>\n",
       "      <th></th>\n",
       "      <th></th>\n",
       "      <th></th>\n",
       "    </tr>\n",
       "  </thead>\n",
       "  <tbody>\n",
       "    <tr>\n",
       "      <th>1077501</th>\n",
       "      <td>5000.0</td>\n",
       "      <td>36</td>\n",
       "      <td>10</td>\n",
       "      <td>2</td>\n",
       "      <td>22</td>\n",
       "    </tr>\n",
       "    <tr>\n",
       "      <th>1077430</th>\n",
       "      <td>2500.0</td>\n",
       "      <td>60</td>\n",
       "      <td>15</td>\n",
       "      <td>3</td>\n",
       "      <td>34</td>\n",
       "    </tr>\n",
       "    <tr>\n",
       "      <th>1077175</th>\n",
       "      <td>2400.0</td>\n",
       "      <td>36</td>\n",
       "      <td>15</td>\n",
       "      <td>3</td>\n",
       "      <td>35</td>\n",
       "    </tr>\n",
       "    <tr>\n",
       "      <th>1076863</th>\n",
       "      <td>10000.0</td>\n",
       "      <td>36</td>\n",
       "      <td>13</td>\n",
       "      <td>3</td>\n",
       "      <td>31</td>\n",
       "    </tr>\n",
       "    <tr>\n",
       "      <th>1075358</th>\n",
       "      <td>3000.0</td>\n",
       "      <td>60</td>\n",
       "      <td>12</td>\n",
       "      <td>2</td>\n",
       "      <td>25</td>\n",
       "    </tr>\n",
       "  </tbody>\n",
       "</table>\n",
       "</div>"
      ],
      "text/plain": [
       "         Loan Amount Loan Period  Interest Rate  FICO Grade FICO Subgrade\n",
       "id                                                                       \n",
       "1077501       5000.0          36             10           2            22\n",
       "1077430       2500.0          60             15           3            34\n",
       "1077175       2400.0          36             15           3            35\n",
       "1076863      10000.0          36             13           3            31\n",
       "1075358       3000.0          60             12           2            25"
      ]
     },
     "execution_count": 14,
     "metadata": {},
     "output_type": "execute_result"
    }
   ],
   "source": [
    "# 4. Store cleaned data into a dataframe\n",
    "df = pd.DataFrame()\n",
    "df['Loan Amount'] = loan_data.loan_amnt\n",
    "df['Loan Period'] = loan_period\n",
    "df['Interest Rate'] = interest_rate\n",
    "df['FICO Grade'] = fico_grade\n",
    "df['FICO Subgrade'] = fico_sub_grade\n",
    "df.head()"
   ]
  },
  {
   "cell_type": "markdown",
   "metadata": {},
   "source": [
    "### Data Visualization"
   ]
  },
  {
   "cell_type": "raw",
   "metadata": {},
   "source": [
    "TODO:\n",
    "Visualize cleaned data into various different plots:\n",
    "1. Histogram\n",
    "2. Box plot\n",
    "3. Scatterplot matrix"
   ]
  },
  {
   "cell_type": "code",
   "execution_count": 15,
   "metadata": {},
   "outputs": [
    {
     "data": {
      "text/plain": [
       "<matplotlib.axes._subplots.AxesSubplot at 0x7f7ec569b1d0>"
      ]
     },
     "execution_count": 15,
     "metadata": {},
     "output_type": "execute_result"
    },
    {
     "data": {
      "image/png": "[encoded data removed]",
      "text/plain": [
       "<Figure size 432x288 with 1 Axes>"
      ]
     },
     "metadata": {
      "needs_background": "light"
     },
     "output_type": "display_data"
    }
   ],
   "source": [
    "# 1. Histogram of FICO grade \n",
    "plt.figure()\n",
    "fico = df['FICO Grade']\n",
    "fico.hist(bins=20)"
   ]
  },
  {
   "cell_type": "code",
   "execution_count": null,
   "metadata": {},
   "outputs": [],
   "source": [
    "\"\"\"How to read histogram:\n",
    "    Histograme is distribution of single variable. It shows 'how many time a variable is repeated' that is \n",
    "    probability distribution of a variable. For example in above graph fico grade '2' is repeated 350 time\n",
    "    in entire distribution\"\"\""
   ]
  },
  {
   "cell_type": "code",
   "execution_count": 16,
   "metadata": {},
   "outputs": [
    {
     "data": {
      "text/plain": [
       "Text(0.5, 1.0, '')"
      ]
     },
     "execution_count": 16,
     "metadata": {},
     "output_type": "execute_result"
    },
    {
     "data": {
      "text/plain": [
       "<Figure size 432x288 with 0 Axes>"
      ]
     },
     "metadata": {},
     "output_type": "display_data"
    },
    {
     "data": {
      "image/png": "[encoded data removed]",
      "text/plain": [
       "<Figure size 432x288 with 1 Axes>"
      ]
     },
     "metadata": {
      "needs_background": "light"
     },
     "output_type": "display_data"
    }
   ],
   "source": [
    "# 2. Box plot\n",
    "plt.figure()\n",
    "x = df.boxplot('Interest Rate', 'FICO Grade')\n",
    "#x.set_xticklabels(['2', ' ', '4', ' ', '6', ' ', '8']) # This will set spacing on x-axis\n",
    "x.set_xlabel('FICO Grade')\n",
    "x.set_ylabel('Interest Rates in %')\n",
    "x.set_title('')"
   ]
  },
  {
   "cell_type": "code",
   "execution_count": null,
   "metadata": {},
   "outputs": [],
   "source": [
    "\"\"\"From Boxplot low fico grade turn out to be better since interest rate will be low.\n",
    "Example: For fico_grade=2, interest rate range between  approx 9%-12% and median is approx 11%.\"\"\""
   ]
  },
  {
   "cell_type": "code",
   "execution_count": 17,
   "metadata": {
    "scrolled": true
   },
   "outputs": [
    {
     "name": "stderr",
     "output_type": "stream",
     "text": [
      "/home/uib14108/anaconda3/lib/python3.7/site-packages/ipykernel_launcher.py:2: FutureWarning: pandas.scatter_matrix is deprecated, use pandas.plotting.scatter_matrix instead\n",
      "  \n"
     ]
    },
    {
     "data": {
      "text/plain": [
       "array([[<matplotlib.axes._subplots.AxesSubplot object at 0x7f7ec52a6d30>,\n",
       "        <matplotlib.axes._subplots.AxesSubplot object at 0x7f7ec51a5208>,\n",
       "        <matplotlib.axes._subplots.AxesSubplot object at 0x7f7ec51cb860>],\n",
       "       [<matplotlib.axes._subplots.AxesSubplot object at 0x7f7ec5174eb8>,\n",
       "        <matplotlib.axes._subplots.AxesSubplot object at 0x7f7ec5122550>,\n",
       "        <matplotlib.axes._subplots.AxesSubplot object at 0x7f7ec5147d68>],\n",
       "       [<matplotlib.axes._subplots.AxesSubplot object at 0x7f7ec50f5710>,\n",
       "        <matplotlib.axes._subplots.AxesSubplot object at 0x7f7ec50a50f0>,\n",
       "        <matplotlib.axes._subplots.AxesSubplot object at 0x7f7ec50a5128>]],\n",
       "      dtype=object)"
      ]
     },
     "execution_count": 17,
     "metadata": {},
     "output_type": "execute_result"
    },
    {
     "data": {
      "image/png": "[encoded data removed]",
      "text/plain": [
       "<Figure size 720x720 with 9 Axes>"
      ]
     },
     "metadata": {
      "needs_background": "light"
     },
     "output_type": "display_data"
    }
   ],
   "source": [
    "# 3. Scatterplot matrix\n",
    "pd.scatter_matrix(df, alpha=0.1,color='red', figsize=(10,10), diagonal = 'hist') # alpha is tranperancy between 0-1"
   ]
  },
  {
   "cell_type": "code",
   "execution_count": null,
   "metadata": {},
   "outputs": [],
   "source": [
    "\"\"\"scatter plot matrix tell about what are the factors influencing interest rates range with respect to fico\n",
    "grades as shown in box plot. Compare interest rate matrix wrt loan amount & fico grade. If loan amount and fico\n",
    "grade also good (low) then interest rate will also be low. Interest rate has linear relationship with loan amount\n",
    "and fico grade. Here more than one variable effects interest rate so multivariate linear regression next.\"\"\""
   ]
  },
  {
   "cell_type": "code",
   "execution_count": 18,
   "metadata": {},
   "outputs": [],
   "source": [
    "# TODO: multivariate linear regression analysis\n",
    "# 1. Build ordinary least square linear regression using statsmodel.\n",
    "# 2. Find r-square for statsmodel\n",
    "# 3. Build linear regression model using scikit learn\n",
    "# 4. Find RMSE for scikit learn model\n",
    "# 5. compare two models"
   ]
  },
  {
   "cell_type": "code",
   "execution_count": 19,
   "metadata": {},
   "outputs": [],
   "source": [
    "import statsmodels.api as sm"
   ]
  },
  {
   "cell_type": "code",
   "execution_count": 20,
   "metadata": {
    "collapsed": true
   },
   "outputs": [
    {
     "data": {
      "text/plain": [
       "id\n",
       "1077501    10\n",
       "1077430    15\n",
       "1077175    15\n",
       "1076863    13\n",
       "1075358    12\n",
       "1075269     7\n",
       "1069639    15\n",
       "1072053    18\n",
       "1071795    21\n",
       "1071570    12\n",
       "1070078    14\n",
       "1069908    12\n",
       "1064687    13\n",
       "1069866     9\n",
       "1069057    10\n",
       "1069759    16\n",
       "1065775    15\n",
       "1069971     6\n",
       "1062474    11\n",
       "1069742     6\n",
       "1069740    15\n",
       "1039153    12\n",
       "1069710    11\n",
       "1069700    11\n",
       "1069559    11\n",
       "1069697     9\n",
       "1069800    14\n",
       "1069657    16\n",
       "1069799    11\n",
       "1047704    11\n",
       "           ..\n",
       "1054408    20\n",
       "1058173    16\n",
       "1057996     9\n",
       "1058162    14\n",
       "1055265    10\n",
       "1018385     6\n",
       "1054294    15\n",
       "1057750    12\n",
       "1057923     9\n",
       "1057816    11\n",
       "1057900     8\n",
       "1056770    12\n",
       "1057710    11\n",
       "1057323    16\n",
       "1057878    12\n",
       "1057726    12\n",
       "1057720    18\n",
       "1049053    14\n",
       "1057448    19\n",
       "1057669    21\n",
       "1050535    16\n",
       "1057674    15\n",
       "1057806    10\n",
       "1057615     8\n",
       "1057818     8\n",
       "1057629    15\n",
       "1057621     9\n",
       "1057787     9\n",
       "1057770    20\n",
       "1057275    17\n",
       "Name: Interest Rate, Length: 1000, dtype: int64"
      ]
     },
     "execution_count": 20,
     "metadata": {},
     "output_type": "execute_result"
    }
   ],
   "source": [
    "int_rate = df['Interest Rate']\n",
    "loan_amount = df['Loan Amount']\n",
    "fico_grade = df['FICO Grade']\n",
    "int_rate"
   ]
  },
  {
   "cell_type": "code",
   "execution_count": 21,
   "metadata": {},
   "outputs": [],
   "source": [
    "# Convert panda series to columns (array format)\n",
    "y = np.matrix(int_rate).transpose() # Response variable\n",
    "x1 = np.matrix(fico_grade).transpose() # explanatory variable 1\n",
    "x2 = np.matrix(loan_amount).transpose() # expanatory variable 2"
   ]
  },
  {
   "cell_type": "code",
   "execution_count": 22,
   "metadata": {},
   "outputs": [
    {
     "data": {
      "text/plain": [
       "matrix([[2.0000e+00, 5.0000e+03],\n",
       "        [3.0000e+00, 2.5000e+03],\n",
       "        [3.0000e+00, 2.4000e+03],\n",
       "        ...,\n",
       "        [2.0000e+00, 1.2375e+04],\n",
       "        [5.0000e+00, 3.5000e+04],\n",
       "        [4.0000e+00, 1.4000e+04]])"
      ]
     },
     "execution_count": 22,
     "metadata": {},
     "output_type": "execute_result"
    }
   ],
   "source": [
    "# Join two explanatory variable into single matrix\n",
    "x = np.column_stack([x1, x2])\n",
    "x"
   ]
  },
  {
   "cell_type": "code",
   "execution_count": 23,
   "metadata": {},
   "outputs": [],
   "source": [
    "# add a column to input dataset matrix\n",
    "# OLS model is linear regression model in statistics.\n",
    "x3 = sm.add_constant(x)"
   ]
  },
  {
   "cell_type": "code",
   "execution_count": 24,
   "metadata": {},
   "outputs": [],
   "source": [
    "model = sm.OLS(y, x3)"
   ]
  },
  {
   "cell_type": "code",
   "execution_count": 25,
   "metadata": {},
   "outputs": [],
   "source": [
    "model_fit = model.fit()"
   ]
  },
  {
   "cell_type": "code",
   "execution_count": 26,
   "metadata": {},
   "outputs": [
    {
     "name": "stdout",
     "output_type": "stream",
     "text": [
      "The probability values:  [3.76239882e-318 0.00000000e+000 5.29445444e-001]\n",
      "The R-squared value is:  0.9336244145239008\n"
     ]
    }
   ],
   "source": [
    "print(\"The probability values: \", model_fit.pvalues)\n",
    "print(\"The R-squared value is: \", model_fit.rsquared) # It is determinant of co-efficient matrix\n",
    "# R-squared can be calculated using scikit learm module as well:\n",
    "# R^2 =  1-(SSres/SStotal)"
   ]
  },
  {
   "cell_type": "code",
   "execution_count": 27,
   "metadata": {
    "collapsed": true
   },
   "outputs": [
    {
     "data": {
      "text/html": [
       "<table class=\"simpletable\">\n",
       "<caption>OLS Regression Results</caption>\n",
       "<tr>\n",
       "  <th>Dep. Variable:</th>            <td>y</td>        <th>  R-squared:         </th> <td>   0.934</td>\n",
       "</tr>\n",
       "<tr>\n",
       "  <th>Model:</th>                   <td>OLS</td>       <th>  Adj. R-squared:    </th> <td>   0.933</td>\n",
       "</tr>\n",
       "<tr>\n",
       "  <th>Method:</th>             <td>Least Squares</td>  <th>  F-statistic:       </th> <td>   7012.</td>\n",
       "</tr>\n",
       "<tr>\n",
       "  <th>Date:</th>             <td>Thu, 12 Dec 2019</td> <th>  Prob (F-statistic):</th>  <td>  0.00</td> \n",
       "</tr>\n",
       "<tr>\n",
       "  <th>Time:</th>                 <td>22:12:11</td>     <th>  Log-Likelihood:    </th> <td> -1441.4</td>\n",
       "</tr>\n",
       "<tr>\n",
       "  <th>No. Observations:</th>      <td>  1000</td>      <th>  AIC:               </th> <td>   2889.</td>\n",
       "</tr>\n",
       "<tr>\n",
       "  <th>Df Residuals:</th>          <td>   997</td>      <th>  BIC:               </th> <td>   2904.</td>\n",
       "</tr>\n",
       "<tr>\n",
       "  <th>Df Model:</th>              <td>     2</td>      <th>                     </th>     <td> </td>   \n",
       "</tr>\n",
       "<tr>\n",
       "  <th>Covariance Type:</th>      <td>nonrobust</td>    <th>                     </th>     <td> </td>   \n",
       "</tr>\n",
       "</table>\n",
       "<table class=\"simpletable\">\n",
       "<tr>\n",
       "    <td></td>       <th>coef</th>     <th>std err</th>      <th>t</th>      <th>P>|t|</th>  <th>[0.025</th>    <th>0.975]</th>  \n",
       "</tr>\n",
       "<tr>\n",
       "  <th>const</th> <td>    4.6924</td> <td>    0.082</td> <td>   57.377</td> <td> 0.000</td> <td>    4.532</td> <td>    4.853</td>\n",
       "</tr>\n",
       "<tr>\n",
       "  <th>x1</th>    <td>    2.9334</td> <td>    0.026</td> <td>  113.172</td> <td> 0.000</td> <td>    2.883</td> <td>    2.984</td>\n",
       "</tr>\n",
       "<tr>\n",
       "  <th>x2</th>    <td> 2.855e-06</td> <td> 4.54e-06</td> <td>    0.629</td> <td> 0.529</td> <td>-6.05e-06</td> <td> 1.18e-05</td>\n",
       "</tr>\n",
       "</table>\n",
       "<table class=\"simpletable\">\n",
       "<tr>\n",
       "  <th>Omnibus:</th>       <td>99.716</td> <th>  Durbin-Watson:     </th> <td>   2.008</td>\n",
       "</tr>\n",
       "<tr>\n",
       "  <th>Prob(Omnibus):</th> <td> 0.000</td> <th>  Jarque-Bera (JB):  </th> <td>  33.008</td>\n",
       "</tr>\n",
       "<tr>\n",
       "  <th>Skew:</th>          <td>-0.154</td> <th>  Prob(JB):          </th> <td>6.80e-08</td>\n",
       "</tr>\n",
       "<tr>\n",
       "  <th>Kurtosis:</th>      <td> 2.165</td> <th>  Cond. No.          </th> <td>3.80e+04</td>\n",
       "</tr>\n",
       "</table><br/><br/>Warnings:<br/>[1] Standard Errors assume that the covariance matrix of the errors is correctly specified.<br/>[2] The condition number is large, 3.8e+04. This might indicate that there are<br/>strong multicollinearity or other numerical problems."
      ],
      "text/plain": [
       "<class 'statsmodels.iolib.summary.Summary'>\n",
       "\"\"\"\n",
       "                            OLS Regression Results                            \n",
       "==============================================================================\n",
       "Dep. Variable:                      y   R-squared:                       0.934\n",
       "Model:                            OLS   Adj. R-squared:                  0.933\n",
       "Method:                 Least Squares   F-statistic:                     7012.\n",
       "Date:                Thu, 12 Dec 2019   Prob (F-statistic):               0.00\n",
       "Time:                        22:12:11   Log-Likelihood:                -1441.4\n",
       "No. Observations:                1000   AIC:                             2889.\n",
       "Df Residuals:                     997   BIC:                             2904.\n",
       "Df Model:                           2                                         \n",
       "Covariance Type:            nonrobust                                         \n",
       "==============================================================================\n",
       "                 coef    std err          t      P>|t|      [0.025      0.975]\n",
       "------------------------------------------------------------------------------\n",
       "const          4.6924      0.082     57.377      0.000       4.532       4.853\n",
       "x1             2.9334      0.026    113.172      0.000       2.883       2.984\n",
       "x2          2.855e-06   4.54e-06      0.629      0.529   -6.05e-06    1.18e-05\n",
       "==============================================================================\n",
       "Omnibus:                       99.716   Durbin-Watson:                   2.008\n",
       "Prob(Omnibus):                  0.000   Jarque-Bera (JB):               33.008\n",
       "Skew:                          -0.154   Prob(JB):                     6.80e-08\n",
       "Kurtosis:                       2.165   Cond. No.                     3.80e+04\n",
       "==============================================================================\n",
       "\n",
       "Warnings:\n",
       "[1] Standard Errors assume that the covariance matrix of the errors is correctly specified.\n",
       "[2] The condition number is large, 3.8e+04. This might indicate that there are\n",
       "strong multicollinearity or other numerical problems.\n",
       "\"\"\""
      ]
     },
     "execution_count": 27,
     "metadata": {},
     "output_type": "execute_result"
    }
   ],
   "source": [
    "model_fit.summary()"
   ]
  },
  {
   "cell_type": "code",
   "execution_count": 28,
   "metadata": {},
   "outputs": [],
   "source": [
    "# predicted values of interest rates\n",
    "prediction_1 = model_fit.predict()\n",
    "predn = np.matrix(prediction_1).transpose()"
   ]
  },
  {
   "cell_type": "code",
   "execution_count": 29,
   "metadata": {},
   "outputs": [
    {
     "data": {
      "text/plain": [
       "(1000,)"
      ]
     },
     "execution_count": 29,
     "metadata": {},
     "output_type": "execute_result"
    }
   ],
   "source": [
    "prediction_1.shape"
   ]
  },
  {
   "cell_type": "code",
   "execution_count": 30,
   "metadata": {},
   "outputs": [
    {
     "data": {
      "text/plain": [
       "10.57348288184507"
      ]
     },
     "execution_count": 30,
     "metadata": {},
     "output_type": "execute_result"
    }
   ],
   "source": [
    "prediction_1[0] # interest rate predicted for first loaner"
   ]
  },
  {
   "cell_type": "code",
   "execution_count": 31,
   "metadata": {},
   "outputs": [
    {
     "data": {
      "text/plain": [
       "matrix([[13.49976167]])"
      ]
     },
     "execution_count": 31,
     "metadata": {},
     "output_type": "execute_result"
    }
   ],
   "source": [
    "predn[1][0]"
   ]
  },
  {
   "cell_type": "code",
   "execution_count": 32,
   "metadata": {},
   "outputs": [],
   "source": [
    "# Linear Regression using sklearn.model"
   ]
  },
  {
   "cell_type": "code",
   "execution_count": 33,
   "metadata": {},
   "outputs": [],
   "source": [
    "from sklearn.model_selection import train_test_split\n",
    "from sklearn.linear_model import LinearRegression"
   ]
  },
  {
   "cell_type": "code",
   "execution_count": 34,
   "metadata": {},
   "outputs": [],
   "source": [
    "feature = [\n",
    "    'Loan Amount',\n",
    "    'Loan Period',\n",
    "    'FICO Grade',\n",
    "    'FICO Subgrade',\n",
    "]\n",
    "\n",
    "X = df[feature]\n",
    "y = df['Interest Rate']"
   ]
  },
  {
   "cell_type": "code",
   "execution_count": 35,
   "metadata": {
    "collapsed": true
   },
   "outputs": [
    {
     "data": {
      "text/plain": [
       "id\n",
       "1077501    10\n",
       "1077430    15\n",
       "1077175    15\n",
       "1076863    13\n",
       "1075358    12\n",
       "1075269     7\n",
       "1069639    15\n",
       "1072053    18\n",
       "1071795    21\n",
       "1071570    12\n",
       "1070078    14\n",
       "1069908    12\n",
       "1064687    13\n",
       "1069866     9\n",
       "1069057    10\n",
       "1069759    16\n",
       "1065775    15\n",
       "1069971     6\n",
       "1062474    11\n",
       "1069742     6\n",
       "1069740    15\n",
       "1039153    12\n",
       "1069710    11\n",
       "1069700    11\n",
       "1069559    11\n",
       "1069697     9\n",
       "1069800    14\n",
       "1069657    16\n",
       "1069799    11\n",
       "1047704    11\n",
       "           ..\n",
       "1054408    20\n",
       "1058173    16\n",
       "1057996     9\n",
       "1058162    14\n",
       "1055265    10\n",
       "1018385     6\n",
       "1054294    15\n",
       "1057750    12\n",
       "1057923     9\n",
       "1057816    11\n",
       "1057900     8\n",
       "1056770    12\n",
       "1057710    11\n",
       "1057323    16\n",
       "1057878    12\n",
       "1057726    12\n",
       "1057720    18\n",
       "1049053    14\n",
       "1057448    19\n",
       "1057669    21\n",
       "1050535    16\n",
       "1057674    15\n",
       "1057806    10\n",
       "1057615     8\n",
       "1057818     8\n",
       "1057629    15\n",
       "1057621     9\n",
       "1057787     9\n",
       "1057770    20\n",
       "1057275    17\n",
       "Name: Interest Rate, Length: 1000, dtype: int64"
      ]
     },
     "execution_count": 35,
     "metadata": {},
     "output_type": "execute_result"
    }
   ],
   "source": [
    "y"
   ]
  },
  {
   "cell_type": "code",
   "execution_count": 36,
   "metadata": {},
   "outputs": [],
   "source": [
    "X_train, X_test, y_train, y_test  = train_test_split(X, y, test_size=0.3, random_state=7)"
   ]
  },
  {
   "cell_type": "code",
   "execution_count": 37,
   "metadata": {},
   "outputs": [],
   "source": [
    "model = LinearRegression()"
   ]
  },
  {
   "cell_type": "code",
   "execution_count": 38,
   "metadata": {},
   "outputs": [
    {
     "data": {
      "text/plain": [
       "LinearRegression(copy_X=True, fit_intercept=True, n_jobs=None,\n",
       "         normalize=False)"
      ]
     },
     "execution_count": 38,
     "metadata": {},
     "output_type": "execute_result"
    }
   ],
   "source": [
    "model.fit(X_train, y_train)"
   ]
  },
  {
   "cell_type": "code",
   "execution_count": 39,
   "metadata": {},
   "outputs": [],
   "source": [
    "prediction_2 = model.predict(X_test)"
   ]
  },
  {
   "cell_type": "code",
   "execution_count": 40,
   "metadata": {},
   "outputs": [
    {
     "data": {
      "text/plain": [
       "9.441241045844258"
      ]
     },
     "execution_count": 40,
     "metadata": {},
     "output_type": "execute_result"
    }
   ],
   "source": [
    "prediction_2[0]"
   ]
  },
  {
   "cell_type": "code",
   "execution_count": 41,
   "metadata": {},
   "outputs": [],
   "source": [
    "# RMSE"
   ]
  },
  {
   "cell_type": "code",
   "execution_count": 42,
   "metadata": {},
   "outputs": [],
   "source": [
    "from sklearn import metrics\n",
    "mean_sq_error = metrics.mean_squared_error(y_test, prediction_2)"
   ]
  },
  {
   "cell_type": "code",
   "execution_count": 43,
   "metadata": {},
   "outputs": [],
   "source": [
    "rmse = np.sqrt(mean_sq_error)"
   ]
  },
  {
   "cell_type": "code",
   "execution_count": 44,
   "metadata": {},
   "outputs": [
    {
     "data": {
      "text/plain": [
       "0.6378048144894384"
      ]
     },
     "execution_count": 44,
     "metadata": {},
     "output_type": "execute_result"
    }
   ],
   "source": [
    "rmse"
   ]
  },
  {
   "cell_type": "code",
   "execution_count": null,
   "metadata": {},
   "outputs": [],
   "source": []
  }
 ],
 "metadata": {
  "kernelspec": {
   "display_name": "Python 3",
   "language": "python",
   "name": "python3"
  },
  "language_info": {
   "codemirror_mode": {
    "name": "ipython",
    "version": 3
   },
   "file_extension": ".py",
   "mimetype": "text/x-python",
   "name": "python",
   "nbconvert_exporter": "python",
   "pygments_lexer": "ipython3",
   "version": "3.7.1"
  }
 },
 "nbformat": 4,
 "nbformat_minor": 2
}
