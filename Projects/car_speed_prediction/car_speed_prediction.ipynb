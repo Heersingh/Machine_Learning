{
 "cells": [
  {
   "cell_type": "markdown",
   "metadata": {},
   "source": [
    "# Car speed prediction"
   ]
  },
  {
   "cell_type": "markdown",
   "metadata": {},
   "source": [
    "### Goal is to predict average speed of car based on factors like roadSurface, traffic, drivingStyle..."
   ]
  },
  {
   "cell_type": "code",
   "execution_count": null,
   "metadata": {},
   "outputs": [],
   "source": [
    "\"\"\"\n",
    "[Datasource]\n",
    "https://www.kaggle.com/gloseto/traffic-driving-style-road-surface-condition\n",
    "\"\"\""
   ]
  },
  {
   "cell_type": "code",
   "execution_count": 179,
   "metadata": {},
   "outputs": [],
   "source": [
    "import pandas as pd\n",
    "import numpy as np\n",
    "import seaborn as sns\n",
    "import matplotlib.pyplot as plt\n",
    "\n",
    "%matplotlib inline"
   ]
  },
  {
   "cell_type": "markdown",
   "metadata": {},
   "source": [
    "### Data loading"
   ]
  },
  {
   "cell_type": "code",
   "execution_count": 180,
   "metadata": {},
   "outputs": [],
   "source": [
    "\"\"\"\n",
    "    decimal=',' will replace comma with decimal point in number series.\n",
    "\"\"\"\n",
    "data = pd.read_csv('road_condition.csv', sep=';', decimal=',')"
   ]
  },
  {
   "cell_type": "code",
   "execution_count": 215,
   "metadata": {},
   "outputs": [
    {
     "name": "stdout",
     "output_type": "stream",
     "text": [
      "<class 'pandas.core.frame.DataFrame'>\n",
      "RangeIndex: 7392 entries, 0 to 7391\n",
      "Data columns (total 17 columns):\n",
      "AltitudeVariation            7338 non-null float64\n",
      "VehicleSpeedInstantaneous    7385 non-null float64\n",
      "VehicleSpeedAverage          7038 non-null float64\n",
      "VehicleSpeedVariance         7038 non-null float64\n",
      "VehicleSpeedVariation        7358 non-null float64\n",
      "LongitudinalAcceleration     7392 non-null float64\n",
      "EngineLoad                   7392 non-null float64\n",
      "EngineCoolantTemperature     7392 non-null int64\n",
      "ManifoldAbsolutePressure     7392 non-null int64\n",
      "EngineRPM                    7392 non-null int64\n",
      "MassAirFlow                  7392 non-null float64\n",
      "IntakeAirTemperature         7392 non-null int64\n",
      "VerticalAcceleration         7392 non-null float64\n",
      "FuelConsumptionAverage       7295 non-null float64\n",
      "roadSurface                  7392 non-null object\n",
      "traffic                      7392 non-null object\n",
      "drivingStyle                 7392 non-null object\n",
      "dtypes: float64(10), int64(4), object(3)\n",
      "memory usage: 981.8+ KB\n"
     ]
    }
   ],
   "source": [
    "data.info()"
   ]
  },
  {
   "cell_type": "markdown",
   "metadata": {},
   "source": [
    "### Features"
   ]
  },
  {
   "cell_type": "code",
   "execution_count": null,
   "metadata": {},
   "outputs": [],
   "source": [
    "\"\"\"\n",
    "useful feature are 'VehicleSpeedInstantaneous' , 'roadSurface', 'traffic', 'drivingStyle'.\n",
    "\"\"\""
   ]
  },
  {
   "cell_type": "code",
   "execution_count": 186,
   "metadata": {},
   "outputs": [],
   "source": [
    "dummy_traffic = pd.get_dummies(data['traffic'], prefix='traffic')"
   ]
  },
  {
   "cell_type": "code",
   "execution_count": 187,
   "metadata": {},
   "outputs": [],
   "source": [
    "dummy_roadSurface = pd.get_dummies(data['roadSurface'], prefix='surf')"
   ]
  },
  {
   "cell_type": "code",
   "execution_count": 188,
   "metadata": {},
   "outputs": [],
   "source": [
    "dummy_drivingStyle = pd.get_dummies(data['drivingStyle'], prefix='driving')"
   ]
  },
  {
   "cell_type": "markdown",
   "metadata": {},
   "source": [
    "### Prepare dataframe for model training"
   ]
  },
  {
   "cell_type": "code",
   "execution_count": 192,
   "metadata": {},
   "outputs": [],
   "source": [
    "df = pd.DataFrame()"
   ]
  },
  {
   "cell_type": "code",
   "execution_count": 193,
   "metadata": {},
   "outputs": [],
   "source": [
    "keep_cols = ['VehicleSpeedInstantaneous', 'VehicleSpeedAverage']"
   ]
  },
  {
   "cell_type": "code",
   "execution_count": 194,
   "metadata": {},
   "outputs": [],
   "source": [
    "df = data[keep_cols].join(dummy_traffic).dropna()\n",
    "df = df.join(dummy_drivingStyle).dropna()\n",
    "df = df.join(dummy_roadSurface).dropna()"
   ]
  },
  {
   "cell_type": "code",
   "execution_count": 196,
   "metadata": {},
   "outputs": [],
   "source": [
    "df.rename(columns={'VehicleSpeedInstantaneous':'norm_speed',\n",
    "                   'traffic_HighCongestionCondition':'traffic_high',\n",
    "                   'traffic_LowCongestionCondition':'traffic_low', \n",
    "                   'traffic_NormalCongestionCondition':'traffic_normal',\n",
    "                   'driving_AggressiveStyle':'driv_aggr',\n",
    "                   'driving_EvenPaceStyle':'driv_even',\n",
    "                   'surf_SmoothCondition':'surf_smooth',\n",
    "                   'surf_UnevenCondition':'surf_uneven',\n",
    "                   'VehicleSpeedAverage': 'avg_speed'\n",
    "                  }, inplace=True)"
   ]
  },
  {
   "cell_type": "code",
   "execution_count": 197,
   "metadata": {},
   "outputs": [
    {
     "data": {
      "text/html": [
       "<div>\n",
       "<style scoped>\n",
       "    .dataframe tbody tr th:only-of-type {\n",
       "        vertical-align: middle;\n",
       "    }\n",
       "\n",
       "    .dataframe tbody tr th {\n",
       "        vertical-align: top;\n",
       "    }\n",
       "\n",
       "    .dataframe thead th {\n",
       "        text-align: right;\n",
       "    }\n",
       "</style>\n",
       "<table border=\"1\" class=\"dataframe\">\n",
       "  <thead>\n",
       "    <tr style=\"text-align: right;\">\n",
       "      <th></th>\n",
       "      <th>norm_speed</th>\n",
       "      <th>avg_speed</th>\n",
       "      <th>traffic_high</th>\n",
       "      <th>traffic_low</th>\n",
       "      <th>traffic_normal</th>\n",
       "      <th>driv_aggr</th>\n",
       "      <th>driv_even</th>\n",
       "      <th>surf_smooth</th>\n",
       "      <th>surf_uneven</th>\n",
       "    </tr>\n",
       "  </thead>\n",
       "  <tbody>\n",
       "    <tr>\n",
       "      <th>59</th>\n",
       "      <td>25.670519</td>\n",
       "      <td>13.223501</td>\n",
       "      <td>0</td>\n",
       "      <td>1</td>\n",
       "      <td>0</td>\n",
       "      <td>0</td>\n",
       "      <td>1</td>\n",
       "      <td>1</td>\n",
       "      <td>0</td>\n",
       "    </tr>\n",
       "    <tr>\n",
       "      <th>60</th>\n",
       "      <td>24.094259</td>\n",
       "      <td>13.638919</td>\n",
       "      <td>0</td>\n",
       "      <td>1</td>\n",
       "      <td>0</td>\n",
       "      <td>0</td>\n",
       "      <td>1</td>\n",
       "      <td>1</td>\n",
       "      <td>0</td>\n",
       "    </tr>\n",
       "    <tr>\n",
       "      <th>61</th>\n",
       "      <td>22.743179</td>\n",
       "      <td>14.031043</td>\n",
       "      <td>0</td>\n",
       "      <td>1</td>\n",
       "      <td>0</td>\n",
       "      <td>0</td>\n",
       "      <td>1</td>\n",
       "      <td>1</td>\n",
       "      <td>0</td>\n",
       "    </tr>\n",
       "    <tr>\n",
       "      <th>62</th>\n",
       "      <td>22.292820</td>\n",
       "      <td>14.171073</td>\n",
       "      <td>0</td>\n",
       "      <td>1</td>\n",
       "      <td>0</td>\n",
       "      <td>0</td>\n",
       "      <td>1</td>\n",
       "      <td>1</td>\n",
       "      <td>0</td>\n",
       "    </tr>\n",
       "    <tr>\n",
       "      <th>63</th>\n",
       "      <td>23.643900</td>\n",
       "      <td>14.328954</td>\n",
       "      <td>0</td>\n",
       "      <td>1</td>\n",
       "      <td>0</td>\n",
       "      <td>0</td>\n",
       "      <td>1</td>\n",
       "      <td>1</td>\n",
       "      <td>0</td>\n",
       "    </tr>\n",
       "  </tbody>\n",
       "</table>\n",
       "</div>"
      ],
      "text/plain": [
       "    norm_speed  avg_speed  traffic_high  traffic_low  traffic_normal  \\\n",
       "59   25.670519  13.223501             0            1               0   \n",
       "60   24.094259  13.638919             0            1               0   \n",
       "61   22.743179  14.031043             0            1               0   \n",
       "62   22.292820  14.171073             0            1               0   \n",
       "63   23.643900  14.328954             0            1               0   \n",
       "\n",
       "    driv_aggr  driv_even  surf_smooth  surf_uneven  \n",
       "59          0          1            1            0  \n",
       "60          0          1            1            0  \n",
       "61          0          1            1            0  \n",
       "62          0          1            1            0  \n",
       "63          0          1            1            0  "
      ]
     },
     "execution_count": 197,
     "metadata": {},
     "output_type": "execute_result"
    }
   ],
   "source": [
    "df.head()"
   ]
  },
  {
   "cell_type": "markdown",
   "metadata": {},
   "source": [
    "### Model"
   ]
  },
  {
   "cell_type": "code",
   "execution_count": 199,
   "metadata": {},
   "outputs": [],
   "source": [
    "X = df[['norm_speed', 'traffic_high', 'traffic_low', 'driv_aggr', 'driv_even', \n",
    "           'surf_smooth', 'surf_uneven']]\n",
    "y = df['avg_speed']"
   ]
  },
  {
   "cell_type": "code",
   "execution_count": 200,
   "metadata": {},
   "outputs": [],
   "source": [
    "from sklearn.linear_model import LinearRegression\n",
    "from sklearn.model_selection import train_test_split"
   ]
  },
  {
   "cell_type": "code",
   "execution_count": 201,
   "metadata": {},
   "outputs": [],
   "source": [
    "X_train, X_test, y_train, y_test = train_test_split(X, y, test_size=0.3, random_state=7)"
   ]
  },
  {
   "cell_type": "code",
   "execution_count": 202,
   "metadata": {},
   "outputs": [],
   "source": [
    "model = LinearRegression()"
   ]
  },
  {
   "cell_type": "code",
   "execution_count": 203,
   "metadata": {},
   "outputs": [
    {
     "data": {
      "text/plain": [
       "LinearRegression(copy_X=True, fit_intercept=True, n_jobs=None,\n",
       "         normalize=False)"
      ]
     },
     "execution_count": 203,
     "metadata": {},
     "output_type": "execute_result"
    }
   ],
   "source": [
    "model.fit(X_train, y_train)"
   ]
  },
  {
   "cell_type": "code",
   "execution_count": 204,
   "metadata": {},
   "outputs": [],
   "source": [
    "prediction = model.predict(X_test)"
   ]
  },
  {
   "cell_type": "code",
   "execution_count": 212,
   "metadata": {},
   "outputs": [
    {
     "data": {
      "text/plain": [
       "'\\n    Linearity is observed in scatter plot which shows our model did well.\\n'"
      ]
     },
     "execution_count": 212,
     "metadata": {},
     "output_type": "execute_result"
    },
    {
     "data": {
      "image/png": "[encoded data removed]",
      "text/plain": [
       "<Figure size 720x504 with 1 Axes>"
      ]
     },
     "metadata": {
      "needs_background": "light"
     },
     "output_type": "display_data"
    }
   ],
   "source": [
    "plt.figure(figsize=(10,7))\n",
    "plt.scatter(y_test, prediction) \n",
    "plt.title('Predicted Vs actual')\n",
    "\"\"\"\n",
    "    Linearity is observed in scatter plot which shows our model did well.\n",
    "\"\"\""
   ]
  },
  {
   "cell_type": "markdown",
   "metadata": {},
   "source": [
    "### RMSE"
   ]
  },
  {
   "cell_type": "code",
   "execution_count": null,
   "metadata": {},
   "outputs": [],
   "source": [
    "from sklearn import metrics"
   ]
  },
  {
   "cell_type": "code",
   "execution_count": null,
   "metadata": {},
   "outputs": [],
   "source": [
    "mean_sq_error = metrics.mean_squared_error(y_test, prediction)"
   ]
  },
  {
   "cell_type": "code",
   "execution_count": null,
   "metadata": {},
   "outputs": [],
   "source": [
    "rmse = np.sqrt(mean_sq_error)\n",
    "rmse"
   ]
  },
  {
   "cell_type": "code",
   "execution_count": 213,
   "metadata": {},
   "outputs": [
    {
     "name": "stdout",
     "output_type": "stream",
     "text": [
      "R-squared: 0.6970763148423738\n"
     ]
    }
   ],
   "source": [
    "print('R-squared:', model.score(X_test, y_test))"
   ]
  }
 ],
 "metadata": {
  "kernelspec": {
   "display_name": "Python 3",
   "language": "python",
   "name": "python3"
  },
  "language_info": {
   "codemirror_mode": {
    "name": "ipython",
    "version": 3
   },
   "file_extension": ".py",
   "mimetype": "text/x-python",
   "name": "python",
   "nbconvert_exporter": "python",
   "pygments_lexer": "ipython3",
   "version": "3.7.1"
  }
 },
 "nbformat": 4,
 "nbformat_minor": 2
}
